{
 "cells": [
  {
   "cell_type": "markdown",
   "id": "expanded-announcement",
   "metadata": {},
   "source": [
    "# ism Import and Plotting\n",
    "\n",
    "This notebook gives an example of the use case of measuring an impedance spectrum with Python via Thales Remote2.\n",
    "This impedance spectrum is then imported into Python and plotted with matplotlib.\n",
    "\n",
    "## 1. Connect Python to the already launched Thales software"
   ]
  },
  {
   "cell_type": "code",
   "execution_count": 1,
   "id": "neither-retail",
   "metadata": {},
   "outputs": [
    {
     "name": "stdout",
     "output_type": "stream",
     "text": [
      "connection successfull\n"
     ]
    }
   ],
   "source": [
    "from ThalesRemoteConnection import ThalesRemoteConnection\n",
    "from ThalesRemoteScriptWrapper import PotentiostatMode, ThalesRemoteScriptWrapper\n",
    "\n",
    "'''\n",
    "Import the ISM import package and the matplotlib plotting library.\n",
    "'''\n",
    "from IsmImport import IsmImport\n",
    "import matplotlib.pyplot as plt\n",
    "import numpy as np\n",
    "from matplotlib.ticker import EngFormatter\n",
    "\n",
    "TARGET_HOST = \"localhost\"\n",
    "\n",
    "if __name__ == '__main__':\n",
    "    '''\n",
    "    The Thales software must first be started so that it can be connected.\n",
    "    '''\n",
    "    ZenniumConnection = ThalesRemoteConnection()\n",
    "    connectionSuccessful = ZenniumConnection.connectToTerm(TARGET_HOST, \"ScriptRemote\")\n",
    "    if connectionSuccessful:\n",
    "        print(\"connection successfull\")\n",
    "    else:\n",
    "        print(\"connection not possible\")\n",
    "          \n",
    "    ZahnerZennium = ThalesRemoteScriptWrapper(ZenniumConnection)\n",
    "  \n",
    "    ZahnerZennium.forceThalesIntoRemoteScript()\n",
    "      \n",
    "    \n",
    "    \n"
   ]
  },
  {
   "cell_type": "markdown",
   "id": "thermal-brunswick",
   "metadata": {},
   "source": [
    "## 2. Setting the parameters for the measurement\n",
    "\n",
    "After the connection with Thales, the naming of the files of the measurement results is set.\n",
    "\n",
    "Measure EIS spectra with a sequential number in the file name that has been specified.\n",
    "Starting with number 1."
   ]
  },
  {
   "cell_type": "code",
   "execution_count": 2,
   "id": "uniform-shannon",
   "metadata": {},
   "outputs": [],
   "source": [
    "    ZahnerZennium.setEISNaming(\"counter\")\n",
    "    ZahnerZennium.setEISCounter(1)\n",
    "    ZahnerZennium.setEISOutputPath(r\"C:\\THALES\\temp\\test1\")\n",
    "    ZahnerZennium.setEISOutputFileName(\"spectra\")"
   ]
  },
  {
   "cell_type": "markdown",
   "id": "inclusive-interview",
   "metadata": {},
   "source": [
    "Setting the parameters for the spectra.\n",
    "Alternatively a rule file can be used as a template."
   ]
  },
  {
   "cell_type": "code",
   "execution_count": 2,
   "id": "extended-ensemble",
   "metadata": {},
   "outputs": [],
   "source": [
    "    ZahnerZennium.setPotentiostatMode(PotentiostatMode.POTMODE_POTENTIOSTATIC)\n",
    "    ZahnerZennium.setAmplitude(10e-3)\n",
    "    ZahnerZennium.setPotential(0)\n",
    "    ZahnerZennium.setLowerFrequencyLimit(1)\n",
    "    ZahnerZennium.setStartFrequency(1000)\n",
    "    ZahnerZennium.setUpperFrequencyLimit(200000)\n",
    "    ZahnerZennium.setLowerNumberOfPeriods(3)\n",
    "    ZahnerZennium.setLowerStepsPerDecade(3)\n",
    "    ZahnerZennium.setUpperNumberOfPeriods(20)\n",
    "    ZahnerZennium.setUpperStepsPerDecade(10)\n",
    "    ZahnerZennium.setScanDirection(\"startToMax\")\n",
    "    ZahnerZennium.setScanStrategy(\"single\")"
   ]
  },
  {
   "cell_type": "markdown",
   "id": "filled-wyoming",
   "metadata": {},
   "source": [
    "After setting the parameters, the measurement is started.  \n",
    "Switching on the potentiostat before the measurement, so that EIS is measured at the set DC potential.  \n",
    "If the potentiostat is off before the measurement, the measurement is performed at the OCP.  \n",
    "After the measurement the potentiostat is switched off."
   ]
  },
  {
   "cell_type": "code",
   "execution_count": 2,
   "id": "olive-optics",
   "metadata": {},
   "outputs": [],
   "source": [
    "    ZahnerZennium.enablePotentiostat()\n",
    "    ZahnerZennium.measureEIS()\n",
    "    ZahnerZennium.disablePotentiostat()\n",
    "    ZenniumConnection.disconnectFromTerm()"
   ]
  },
  {
   "cell_type": "markdown",
   "id": "liked-lightweight",
   "metadata": {},
   "source": [
    "## 3. Importing the ism file\n",
    "\n",
    "Import the spectrum from the previous measurement. This was saved under the set path and name with the number expanded.  \n",
    "The measurement starts at 1 therefore the following path results: \"C:\\THALES\\temp\\test1\\spectra_0001.ism\"."
   ]
  },
  {
   "cell_type": "code",
   "execution_count": 7,
   "id": "mediterranean-pottery",
   "metadata": {},
   "outputs": [],
   "source": [
    "    ismFile = IsmImport(r\"C:\\THALES\\temp\\test1\\spectra_0001.ism\")\n",
    "    \n",
    "    impedanceFrequencies = ismFile.getFrequencyArray()\n",
    "    \n",
    "    impedanceAbsolute = ismFile.getImpedanceArray()\n",
    "    impedancePhase = ismFile.getPhaseArray()\n",
    "    \n",
    "    impedanceComplex = ismFile.getComplexImpedanceArray()"
   ]
  },
  {
   "cell_type": "markdown",
   "id": "charitable-carpet",
   "metadata": {},
   "source": [
    "## 4. Displaying the measurement results\n",
    "\n",
    "The spectra are presented in the Bode and Nyquist representation.  \n",
    "For this test, the Zahner test box was measured in the lin position."
   ]
  },
  {
   "cell_type": "code",
   "execution_count": 9,
   "id": "psychological-heavy",
   "metadata": {},
   "outputs": [
    {
     "data": {
      "image/png": "[encoded data removed]",
      "text/plain": [
       "<Figure size 432x288 with 1 Axes>"
      ]
     },
     "metadata": {
      "needs_background": "light"
     },
     "output_type": "display_data"
    }
   ],
   "source": [
    "    plt.ion()\n",
    "    figNyquist, (nyquistAxis) = plt.subplots(1, 1)\n",
    "    figNyquist.suptitle(\"Nyquist\")\n",
    "    \n",
    "    nyquistAxis.plot(np.real(impedanceComplex), -np.imag(impedanceComplex), marker=\"x\", markersize=5)\n",
    "    nyquistAxis.grid(which=\"both\")\n",
    "    nyquistAxis.set_aspect('equal')\n",
    "    nyquistAxis.xaxis.set_major_formatter(EngFormatter(unit=\"$\\Omega$\"))\n",
    "    nyquistAxis.yaxis.set_major_formatter(EngFormatter(unit=\"$\\Omega$\"))\n",
    "    nyquistAxis.set_xlabel(r'$Z_{\\rm re}$')\n",
    "    nyquistAxis.set_ylabel(r'$-Z_{\\rm im}$')\n",
    "    plt.show()"
   ]
  },
  {
   "cell_type": "code",
   "execution_count": 12,
   "id": "integrated-austin",
   "metadata": {},
   "outputs": [
    {
     "data": {
      "image/png": "[encoded data removed]",
      "text/plain": [
       "<Figure size 432x288 with 2 Axes>"
      ]
     },
     "metadata": {
      "needs_background": "light"
     },
     "output_type": "display_data"
    }
   ],
   "source": [
    "    '''\n",
    "    Bode representation.\n",
    "    \n",
    "    Display the data in the chart and then format the axes.\n",
    "    '''\n",
    "    figBode, (impedanceAxis, phaseAxis) = plt.subplots(2, 1, sharex=True)\n",
    "    figBode.suptitle(\"Bode\")\n",
    "    \n",
    "    impedanceAxis.loglog(impedanceFrequencies, impedanceAbsolute, marker=\"+\", markersize=5)\n",
    "    impedanceAxis.xaxis.set_major_formatter(EngFormatter(unit=\"Hz\"))\n",
    "    impedanceAxis.yaxis.set_major_formatter(EngFormatter(unit=\"$\\Omega$\"))\n",
    "    impedanceAxis.set_xlabel(r'$f$')\n",
    "    impedanceAxis.set_ylabel(r'$|Z|$')\n",
    "    impedanceAxis.grid(which=\"both\")\n",
    "    \n",
    "    phaseAxis.semilogx(impedanceFrequencies, np.abs(impedancePhase * (360 / (2 * np.pi))), marker=\"+\", markersize=5)\n",
    "    phaseAxis.xaxis.set_major_formatter(EngFormatter(unit=\"Hz\"))\n",
    "    phaseAxis.yaxis.set_major_formatter(EngFormatter(unit=\"$°$\", sep=\"\"))\n",
    "    phaseAxis.set_xlabel(r'$f$')\n",
    "    phaseAxis.set_ylabel(r'$|Phase|$')\n",
    "    phaseAxis.grid(which=\"both\")\n",
    "    phaseAxis.set_ylim([0, 90])\n",
    "    plt.show()"
   ]
  }
 ],
 "metadata": {
  "kernelspec": {
   "display_name": "Python 3",
   "language": "python",
   "name": "python3"
  },
  "language_info": {
   "codemirror_mode": {
    "name": "ipython",
    "version": 3
   },
   "file_extension": ".py",
   "mimetype": "text/x-python",
   "name": "python",
   "nbconvert_exporter": "python",
   "pygments_lexer": "ipython3",
   "version": "3.9.0"
  }
 },
 "nbformat": 4,
 "nbformat_minor": 5
}
