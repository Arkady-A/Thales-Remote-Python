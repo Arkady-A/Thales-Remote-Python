{
 "cells": [
  {
   "cell_type": "markdown",
   "metadata": {},
   "source": [
    "# Current voltage curves\n",
    "\n",
    "This example shows how the Thales I/E software package can be controlled with Python.\n",
    "\n",
    "The [I/E manual](https://doc.zahner.de/manuals/ie.pdf) provides further explanation of this method and explains the settings."
   ]
  },
  {
   "cell_type": "code",
   "execution_count": 12,
   "metadata": {},
   "outputs": [],
   "source": [
    "import sys\n",
    "from thales_remote.connection import ThalesRemoteConnection\n",
    "from thales_remote.script_wrapper import ThalesRemoteScriptWrapper"
   ]
  },
  {
   "cell_type": "markdown",
   "metadata": {},
   "source": [
    "# Establish and initialize \n",
    "\n",
    "The Term software must be started before the script is executed to be able to connect."
   ]
  },
  {
   "cell_type": "code",
   "execution_count": 2,
   "metadata": {},
   "outputs": [
    {
     "name": "stdout",
     "output_type": "stream",
     "text": [
      "connection successfull\n"
     ]
    }
   ],
   "source": [
    "if __name__ == \"__main__\":\n",
    "    zenniumConnection = ThalesRemoteConnection()\n",
    "    connectionSuccessful = zenniumConnection.connectToTerm(\"localhost\", \"ScriptRemote\")\n",
    "    if connectionSuccessful:\n",
    "        print(\"connection successfull\")\n",
    "    else:\n",
    "        print(\"connection not possible\")\n",
    "        sys.exit()\n",
    "        \n",
    "    zahnerZennium = ThalesRemoteScriptWrapper(zenniumConnection)\n",
    "    zahnerZennium.forceThalesIntoRemoteScript()"
   ]
  },
  {
   "cell_type": "markdown",
   "metadata": {},
   "source": [
    "# I/E output file setup\n",
    "\n",
    "The first step is to set where the measurement data is to be saved. The path must exist otherwise you will get an error."
   ]
  },
  {
   "cell_type": "code",
   "execution_count": null,
   "metadata": {},
   "outputs": [],
   "source": [
    "    zahnerZennium.setIEOutputPath(r\"C:\\THALES\\temp\\ie\")"
   ]
  },
  {
   "cell_type": "markdown",
   "metadata": {},
   "source": [
    "Then it is set that the measurements should be numbered and the numbering starts with 1.  \n",
    "In the further process, the other two naming types are also configured as examples."
   ]
  },
  {
   "cell_type": "code",
   "execution_count": null,
   "metadata": {},
   "outputs": [],
   "source": [
    "    zahnerZennium.setIENaming(\"counter\")\n",
    "    zahnerZennium.setIECounter(1)"
   ]
  },
  {
   "cell_type": "markdown",
   "metadata": {},
   "source": [
    "# I/E measurement parameters\n",
    "\n",
    "In the next step, the actual parameters for the measurement method are set.  \n",
    "Alternatively, a rule file could be loaded which sets the parameters for the measurement.\n",
    "\n",
    "The methods are named after the parameters they set. Additional information can be found in the [API documentation](https://doc.zahner.de/thales_remote/script_wrapper.html)."
   ]
  },
  {
   "cell_type": "code",
   "execution_count": null,
   "metadata": {},
   "outputs": [],
   "source": [
    "    zahnerZennium.calibrateOffsets()\n",
    "    \n",
    "    zahnerZennium.setIEFirstEdgePotential(1)\n",
    "    zahnerZennium.setIEFirstEdgePotentialRelation(\"absolute\")\n",
    "    zahnerZennium.setIESecondEdgePotential(1.1)\n",
    "    zahnerZennium.setIESecondEdgePotentialRelation(\"absolute\")\n",
    "    zahnerZennium.setIEThirdEdgePotential(0.9)\n",
    "    zahnerZennium.setIEThirdEdgePotentialRelation(\"absolute\")\n",
    "    zahnerZennium.setIEFourthEdgePotential(1)\n",
    "    zahnerZennium.setIEFourthEdgePotentialRelation(\"absolute\")\n",
    "    \n",
    "    zahnerZennium.setIEPotentialResolution(0.02)\n",
    "    zahnerZennium.setIEMinimumWaitingTime(1)\n",
    "    zahnerZennium.setIEMaximumWaitingTime(15)\n",
    "    zahnerZennium.setIERelativeTolerance(0.01)  #1 %\n",
    "    zahnerZennium.setIEAbsoluteTolerance(0.001) #1 mA\n",
    "    zahnerZennium.setIEOhmicDrop(0)\n",
    "    \n",
    "    zahnerZennium.setIEScanRate(0.05)\n",
    "    zahnerZennium.setIEMaximumCurrent(0.01)\n",
    "    zahnerZennium.setIEMinimumCurrent(-0.01)"
   ]
  },
  {
   "cell_type": "markdown",
   "metadata": {},
   "source": [
    "# Execute the measurement\n",
    "\n",
    "In the following, the three different types of I/E are executed one after the other.\n",
    "\n",
    "It also adjusts the file name before each measurement and changes the naming of the files.\n",
    "\n",
    "The [IE manual](https://doc.zahner.de/manuals/ie.pdf) explains the individual types.\n",
    "\n",
    "## Steady State"
   ]
  },
  {
   "cell_type": "code",
   "execution_count": null,
   "metadata": {},
   "outputs": [],
   "source": [
    "    zahnerZennium.setIESweepMode(\"steady state\")\n",
    "    zahnerZennium.setIEOutputFileName(\"ie_steady\")"
   ]
  },
  {
   "cell_type": "markdown",
   "metadata": {},
   "source": [
    "After checking whether the parameters have been set correctly, the measurement is started."
   ]
  },
  {
   "cell_type": "code",
   "execution_count": 7,
   "metadata": {},
   "outputs": [
    {
     "name": "stdout",
     "output_type": "stream",
     "text": [
      "OK;IESETUP;IE_EckPot1=1.0000e+00;IE_EckPot2=1.1000e+00;IE_EckPot3=9.0000e-01;IE_EckPot4=1.0000e+00;IE_EckPot1rel=0;IE_EckPot2rel=0;IE_EckPot3rel=0;IE_EckPot4rel=0;IE_Resolution=2.0000e-02;IE_WZmin=1.0;IE_WZmax=15;IE_Torel=1.0000e-02;IE_Toabs=1.0000e-03;IE_Odrop=0.0000e+00;IE_SweepMode=0;IE_Srate=5.0000e-02;IE_Imi=-1.0000e-02;IE_Ima=1.0000e-02;ENDSETUP\n"
     ]
    },
    {
     "data": {
      "text/plain": [
       "'IE DONE\\r'"
      ]
     },
     "execution_count": 7,
     "metadata": {},
     "output_type": "execute_result"
    }
   ],
   "source": [
    "    zahnerZennium.checkIESetup()\n",
    "    print(zahnerZennium.readIESetup())\n",
    "    \n",
    "    zahnerZennium.measureIE()"
   ]
  },
  {
   "cell_type": "markdown",
   "metadata": {},
   "source": [
    "## Dynamic Scan\n",
    "\n",
    "The names of the measurement results are extended with date and time."
   ]
  },
  {
   "cell_type": "code",
   "execution_count": 8,
   "metadata": {},
   "outputs": [
    {
     "name": "stdout",
     "output_type": "stream",
     "text": [
      "OK;IESETUP;IE_EckPot1=1.0000e+00;IE_EckPot2=1.1000e+00;IE_EckPot3=9.0000e-01;IE_EckPot4=1.0000e+00;IE_EckPot1rel=0;IE_EckPot2rel=0;IE_EckPot3rel=0;IE_EckPot4rel=0;IE_Resolution=2.0000e-02;IE_WZmin=1.0;IE_WZmax=15;IE_Torel=1.0000e-02;IE_Toabs=1.0000e-03;IE_Odrop=0.0000e+00;IE_SweepMode=0;IE_Srate=5.0000e-02;IE_Imi=-1.0000e-02;IE_Ima=1.0000e-02;ENDSETUP\n"
     ]
    },
    {
     "data": {
      "text/plain": [
       "'IE DONE\\r'"
      ]
     },
     "execution_count": 8,
     "metadata": {},
     "output_type": "execute_result"
    }
   ],
   "source": [
    "    zahnerZennium.setIESweepMode(\"dynamic scan\")\n",
    "    zahnerZennium.setIENaming(\"dateTime\")\n",
    "    zahnerZennium.setIEOutputFileName(\"ie_dynamic\")\n",
    "    \n",
    "    zahnerZennium.checkIESetup()\n",
    "    print(zahnerZennium.readIESetup())\n",
    "    \n",
    "    zahnerZennium.measureIE()"
   ]
  },
  {
   "cell_type": "markdown",
   "metadata": {},
   "source": [
    "## Fixed Sampling\n",
    "\n",
    "The names of the measurement results are extended with date and time."
   ]
  },
  {
   "cell_type": "code",
   "execution_count": 9,
   "metadata": {},
   "outputs": [
    {
     "name": "stdout",
     "output_type": "stream",
     "text": [
      "OK;IESETUP;IE_EckPot1=1.0000e+00;IE_EckPot2=1.1000e+00;IE_EckPot3=9.0000e-01;IE_EckPot4=1.0000e+00;IE_EckPot1rel=0;IE_EckPot2rel=0;IE_EckPot3rel=0;IE_EckPot4rel=0;IE_Resolution=2.0000e-02;IE_WZmin=1.0;IE_WZmax=15;IE_Torel=1.0000e-02;IE_Toabs=1.0000e-03;IE_Odrop=0.0000e+00;IE_SweepMode=0;IE_Srate=5.0000e-02;IE_Imi=-1.0000e-02;IE_Ima=1.0000e-02;ENDSETUP\n"
     ]
    },
    {
     "data": {
      "text/plain": [
       "'IE DONE\\r'"
      ]
     },
     "execution_count": 9,
     "metadata": {},
     "output_type": "execute_result"
    }
   ],
   "source": [
    "    zahnerZennium.setIESweepMode(\"fixed sampling\")\n",
    "    zahnerZennium.setIEOutputFileName(\"ie_fixed\")\n",
    "    \n",
    "    zahnerZennium.checkIESetup()\n",
    "    print(zahnerZennium.readIESetup())\n",
    "    \n",
    "    zahnerZennium.measureIE()"
   ]
  },
  {
   "cell_type": "markdown",
   "metadata": {},
   "source": [
    "# Disconnect"
   ]
  },
  {
   "cell_type": "code",
   "execution_count": 10,
   "metadata": {},
   "outputs": [
    {
     "name": "stdout",
     "output_type": "stream",
     "text": [
      "finish\n"
     ]
    }
   ],
   "source": [
    "    zenniumConnection.disconnectFromTerm()\n",
    "    print(\"finish\")"
   ]
  }
 ],
 "metadata": {
  "interpreter": {
   "hash": "ac59ebe37160ed0dfa835113d9b8498d9f09ceb179beaac4002f036b9467c963"
  },
  "kernelspec": {
   "display_name": "Python 3.9.7 64-bit",
   "name": "python3"
  },
  "language_info": {
   "codemirror_mode": {
    "name": "ipython",
    "version": 3
   },
   "file_extension": ".py",
   "mimetype": "text/x-python",
   "name": "python",
   "nbconvert_exporter": "python",
   "pygments_lexer": "ipython3",
   "version": "3.9.7"
  },
  "orig_nbformat": 4
 },
 "nbformat": 4,
 "nbformat_minor": 2
}
