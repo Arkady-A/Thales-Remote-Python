{
 "cells": [
  {
   "cell_type": "markdown",
   "metadata": {},
   "source": [
    "# Introduction to the Python control system\n",
    "\n",
    "This is the introductory example explaining the connection setup between Python and the **Term** Terminal Software running the **Thales** Workstation Software."
   ]
  },
  {
   "cell_type": "code",
   "execution_count": 1,
   "metadata": {},
   "outputs": [],
   "source": [
    "import sys\n",
    "from thales_remote.connection import ThalesRemoteConnection\n",
    "from thales_remote.script_wrapper import PotentiostatMode,ThalesRemoteScriptWrapper\n",
    "import math\n",
    "import cmath"
   ]
  },
  {
   "cell_type": "markdown",
   "metadata": {},
   "source": [
    "# Utility functions\n",
    "\n",
    "First, two utility functions are declared.  \n",
    "With the first function the complex impedance is output to the console. The second function measures an impedance spectrum from individual impedance measuring points."
   ]
  },
  {
   "cell_type": "code",
   "execution_count": 2,
   "metadata": {},
   "outputs": [],
   "source": [
    "def printImpedance(impedance):\n",
    "    print(\"Impedance: \" + str(abs(impedance)) + \" ohm, \" + str(cmath.phase(impedance)) + \" rad\")\n",
    "    return\n",
    "\n",
    "def spectrum(scriptHandle, lower_frequency, upper_frequency, number_of_points):\n",
    "    log_lower_frequency = math.log(lower_frequency)\n",
    "    log_upper_frequency = math.log(upper_frequency)\n",
    "    log_interval_spacing = (log_upper_frequency - log_lower_frequency) / (number_of_points - 1)\n",
    "    \n",
    "    for i in range(number_of_points):\n",
    "        current_frequency = math.exp(log_lower_frequency + log_interval_spacing * i)\n",
    "        print(\"Frequency: \" + str(current_frequency))\n",
    "        printImpedance(scriptHandle.getImpedance(current_frequency))\n",
    "        \n",
    "    return"
   ]
  },
  {
   "cell_type": "markdown",
   "metadata": {},
   "source": [
    "# Connect to the Term software\n",
    "\n",
    "Before calling the following commands, the Term software must be started and the Thales start screen must be displayed, in which methods can be selected.\n",
    "\n",
    "In this case the Term runs on the same computer as Python, so **\"localhost\"** is chosen here as IP address, but you could also specify the IP address of the computer in the network, on which the Term software is running and to which the workstation is connected via USB."
   ]
  },
  {
   "cell_type": "code",
   "execution_count": 3,
   "metadata": {},
   "outputs": [
    {
     "name": "stdout",
     "output_type": "stream",
     "text": [
      "connection successfull\n"
     ]
    }
   ],
   "source": [
    "TARGET_HOST = \"localhost\"\n",
    "\n",
    "if __name__ == \"__main__\":\n",
    "    zenniumConnection = ThalesRemoteConnection()\n",
    "    connectionSuccessful = zenniumConnection.connectToTerm(TARGET_HOST, \"ScriptRemote\")\n",
    "    if connectionSuccessful:\n",
    "        print(\"connection successfull\")\n",
    "    else:\n",
    "        print(\"connection not possible\")\n",
    "        sys.exit()"
   ]
  },
  {
   "cell_type": "markdown",
   "metadata": {},
   "source": [
    "# Initialize the application and start the remote software in Thales\n",
    "\n",
    "If the connection to the term is successfully established, the [ThalesRemoteConnection](https://doc.zahner.de/thales_remote/connection.html#thales_remote.connection.ThalesRemoteConnection) object that manages the connection to the Thales software. This object is passed to the constructor of a new [ThalesRemoteScriptWrapper](https://doc.zahner.de/thales_remote/script_wrapper.html#thales_remote.script_wrapper.ThalesRemoteScriptWrapper) object.\n",
    "\n",
    "The [ThalesRemoteScriptWrapper](https://doc.zahner.de/thales_remote/script_wrapper.html#thales_remote.script_wrapper.ThalesRemoteScriptWrapper) class implements the commands as methods, which are available via [Remote2](https://doc.zahner.de/Remote.pdf)."
   ]
  },
  {
   "cell_type": "code",
   "execution_count": null,
   "metadata": {},
   "outputs": [],
   "source": [
    "    zahnerZennium = ThalesRemoteScriptWrapper(zenniumConnection)\n",
    "    zahnerZennium.forceThalesIntoRemoteScript()"
   ]
  },
  {
   "cell_type": "markdown",
   "metadata": {},
   "source": [
    "# Offset calibration\n",
    "\n",
    "The first step is to perform an offset calibration. The instrument performs automatic offset calibrations but it is recommended to calibrate the offsets manually after the instrument has warmed up for half an hour."
   ]
  },
  {
   "cell_type": "code",
   "execution_count": null,
   "metadata": {},
   "outputs": [],
   "source": [
    "    zahnerZennium.calibrateOffsets()"
   ]
  },
  {
   "cell_type": "markdown",
   "metadata": {},
   "source": [
    "# DC measurement\n",
    "\n",
    "## Potentiostatic measurement\n",
    "\n",
    "A voltage of 1.0 V is output potentiostatically as an example. For this, potentiostatic is set first. Then the potential is set and the potentiostat is switched on."
   ]
  },
  {
   "cell_type": "code",
   "execution_count": null,
   "metadata": {},
   "outputs": [],
   "source": [
    "    zahnerZennium.setPotentiostatMode(PotentiostatMode.POTMODE_POTENTIOSTATIC)\n",
    "    zahnerZennium.setPotential(1.0)\n",
    "    zahnerZennium.enablePotentiostat()"
   ]
  },
  {
   "cell_type": "markdown",
   "metadata": {},
   "source": [
    "After the potentiostat is switched on, voltage and current are measured several times in a loop."
   ]
  },
  {
   "cell_type": "code",
   "execution_count": 7,
   "metadata": {},
   "outputs": [
    {
     "name": "stdout",
     "output_type": "stream",
     "text": [
      "Potential:\t0.9998795\tV\n",
      "Current:\t9.974371e-09\tA\n",
      "Potential:\t0.9998603\tV\n",
      "Current:\t9.985522e-09\tA\n",
      "Potential:\t0.9998633\tV\n",
      "Current:\t9.986938e-09\tA\n",
      "Potential:\t0.9998643\tV\n",
      "Current:\t9.987265e-09\tA\n",
      "Potential:\t0.9998643\tV\n",
      "Current:\t9.987638e-09\tA\n"
     ]
    }
   ],
   "source": [
    "    for i in range(5):\n",
    "        print(f\"Potential:\\t{zahnerZennium.getPotential()}\\tV\")\n",
    "        print(f\"Current:\\t{zahnerZennium.getCurrent()}\\tA\")"
   ]
  },
  {
   "cell_type": "markdown",
   "metadata": {},
   "source": [
    "## Galvanostatic measurement\n",
    "\n",
    "After the potentiostatic measurement, galvanostatic measurement is performed with 20 nA."
   ]
  },
  {
   "cell_type": "code",
   "execution_count": 8,
   "metadata": {},
   "outputs": [
    {
     "name": "stdout",
     "output_type": "stream",
     "text": [
      "Potential:\t1.94944\tV\n",
      "Current:\t1.992362e-08\tA\n",
      "Potential:\t1.993915\tV\n",
      "Current:\t1.992354e-08\tA\n",
      "Potential:\t1.994116\tV\n",
      "Current:\t1.992357e-08\tA\n",
      "Potential:\t1.994305\tV\n",
      "Current:\t1.992382e-08\tA\n",
      "Potential:\t1.994422\tV\n",
      "Current:\t1.992356e-08\tA\n"
     ]
    }
   ],
   "source": [
    "    zahnerZennium.disablePotentiostat()\n",
    "    zahnerZennium.setPotentiostatMode(PotentiostatMode.POTMODE_GALVANOSTATIC)\n",
    "    zahnerZennium.setCurrent(20e-9)\n",
    "    zahnerZennium.enablePotentiostat()\n",
    "\n",
    "    for i in range(5):\n",
    "        print(f\"Potential:\\t{zahnerZennium.getPotential()}\\tV\")\n",
    "        print(f\"Current:\\t{zahnerZennium.getCurrent()}\\tA\")"
   ]
  },
  {
   "cell_type": "markdown",
   "metadata": {},
   "source": [
    "# Impedance measurement\n",
    "\n",
    "## Parameterization of the impedance measurement\n",
    "\n",
    "For the impedance measurement, the measuring frequency, the measuring amplitude and the number of periods to be averaged are now set."
   ]
  },
  {
   "cell_type": "code",
   "execution_count": null,
   "metadata": {},
   "outputs": [],
   "source": [
    "    zahnerZennium.disablePotentiostat()\n",
    "    zahnerZennium.setPotentiostatMode(PotentiostatMode.POTMODE_POTENTIOSTATIC)\n",
    "    zahnerZennium.setPotential(1.0)\n",
    "    zahnerZennium.enablePotentiostat()\n",
    "    zahnerZennium.setFrequency(2000)\n",
    "    zahnerZennium.setAmplitude(10e-3)\n",
    "    zahnerZennium.setNumberOfPeriods(3)"
   ]
  },
  {
   "cell_type": "markdown",
   "metadata": {},
   "source": [
    "## Execute the measurement\n",
    "\n",
    "Since the potentiostat is still switched on from the DC measurement, the impedance spectrum is now measured at the set DC potential of 1 V.\n",
    "\n",
    "<div class=\"alert alert-block alert-info\">\n",
    "<b>Note:</b> If the potentiostat is set to potentiostatic before the impedance measurement and is switched off, the measurement is performed at the open circuit voltage/potential.\n",
    "</div>\n",
    "    "
   ]
  },
  {
   "cell_type": "code",
   "execution_count": 10,
   "metadata": {},
   "outputs": [
    {
     "name": "stdout",
     "output_type": "stream",
     "text": [
      "Impedance: 548664.9346194816 ohm, -1.5554111026239594 rad\n",
      "Impedance: 548173.1660123469 ohm, -1.5544576968941222 rad\n",
      "Impedance: 548367.4877388338 ohm, -1.5551072986627177 rad\n",
      "Frequency: 999.9999999999998\n",
      "Impedance: 1092168.7781657192 ohm, -1.5532157206942645 rad\n",
      "Frequency: 1801.64823065441\n",
      "Impedance: 606590.1924693475 ohm, -1.5535515401416211 rad\n",
      "Frequency: 3245.936347020167\n",
      "Impedance: 337333.38778721564 ohm, -1.5567266949188723 rad\n",
      "Frequency: 5848.035476425735\n",
      "Impedance: 188612.52947776296 ohm, -1.5592697959397968 rad\n",
      "Frequency: 10536.102768906649\n",
      "Impedance: 104801.92255412112 ohm, -1.5647391489656668 rad\n",
      "Frequency: 18982.350911593698\n",
      "Impedance: 58230.39139701879 ohm, -1.5671298482906713 rad\n",
      "Frequency: 34199.51893353398\n",
      "Impedance: 32190.079340705266 ohm, -1.5730165778841319 rad\n",
      "Frequency: 61615.50277583351\n",
      "Impedance: 17900.02994152803 ohm, -1.5689672785552131 rad\n",
      "Frequency: 111009.46155696237\n",
      "Impedance: 9790.83542962499 ohm, -1.5577327186024725 rad\n",
      "Frequency: 200000.00000000006\n",
      "Impedance: 5452.234804188095 ohm, -1.5800770581287853 rad\n"
     ]
    }
   ],
   "source": [
    "    printImpedance(zahnerZennium.getImpedance())\n",
    "    printImpedance(zahnerZennium.getImpedance(2000))\n",
    "    printImpedance(zahnerZennium.getImpedance(2000, 10e-3, 3))\n",
    "\n",
    "    spectrum(zahnerZennium, 1000, 2e5, 10)"
   ]
  },
  {
   "cell_type": "markdown",
   "metadata": {},
   "source": [
    "## Switch off potentiostat\n",
    "\n",
    "After the measurement, the potentiostat is switched off and **the amplitude must be set to 0** again after the impedance measurement."
   ]
  },
  {
   "cell_type": "code",
   "execution_count": null,
   "metadata": {},
   "outputs": [],
   "source": [
    "    zahnerZennium.disablePotentiostat()\n",
    "    zahnerZennium.setAmplitude(0)"
   ]
  },
  {
   "cell_type": "markdown",
   "metadata": {},
   "source": [
    "# Close the connection"
   ]
  },
  {
   "cell_type": "code",
   "execution_count": 12,
   "metadata": {},
   "outputs": [
    {
     "name": "stdout",
     "output_type": "stream",
     "text": [
      "finish\n"
     ]
    }
   ],
   "source": [
    "    zenniumConnection.disconnectFromTerm()\n",
    "    print(\"finish\")"
   ]
  }
 ],
 "metadata": {
  "interpreter": {
   "hash": "ac59ebe37160ed0dfa835113d9b8498d9f09ceb179beaac4002f036b9467c963"
  },
  "kernelspec": {
   "display_name": "Python 3.9.7 64-bit",
   "name": "python3"
  },
  "language_info": {
   "codemirror_mode": {
    "name": "ipython",
    "version": 3
   },
   "file_extension": ".py",
   "mimetype": "text/x-python",
   "name": "python",
   "nbconvert_exporter": "python",
   "pygments_lexer": "ipython3",
   "version": "3.10.0"
  },
  "orig_nbformat": 4
 },
 "nbformat": 4,
 "nbformat_minor": 2
}
