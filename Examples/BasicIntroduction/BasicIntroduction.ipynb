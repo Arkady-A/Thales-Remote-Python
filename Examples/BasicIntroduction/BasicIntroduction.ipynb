{
 "cells": [
  {
   "cell_type": "markdown",
   "metadata": {},
   "source": [
    "# Introduction to the Python control system\n",
    "\n",
    "This is the introductory example explaining the connection setup between Python and the **Term** Terminal Software running the **Thales** Workstation Software."
   ]
  },
  {
   "cell_type": "code",
   "execution_count": 73,
   "metadata": {},
   "outputs": [],
   "source": [
    "import sys\n",
    "from thales_remote.connection import ThalesRemoteConnection\n",
    "from thales_remote.script_wrapper import PotentiostatMode,ThalesRemoteScriptWrapper\n",
    "import math\n",
    "import cmath\n",
    "\n",
    "from jupyter_utils import executionInNotebook, notebookCodeToPython"
   ]
  },
  {
   "cell_type": "markdown",
   "metadata": {},
   "source": [
    "# Utility functions\n",
    "\n",
    "First, two utility functions are declared.  \n",
    "With the first function the complex impedance is output to the console. The second function measures an impedance spectrum from individual impedance measuring points."
   ]
  },
  {
   "cell_type": "code",
   "execution_count": 74,
   "metadata": {},
   "outputs": [],
   "source": [
    "def printImpedance(impedance):\n",
    "    print(\"Impedance: \" + str(abs(impedance)) + \" ohm, \" + str(cmath.phase(impedance)) + \" rad\")\n",
    "    return\n",
    "\n",
    "def spectrum(scriptHandle, lower_frequency, upper_frequency, number_of_points):\n",
    "    log_lower_frequency = math.log(lower_frequency)\n",
    "    log_upper_frequency = math.log(upper_frequency)\n",
    "    log_interval_spacing = (log_upper_frequency - log_lower_frequency) / (number_of_points - 1)\n",
    "    \n",
    "    for i in range(number_of_points):\n",
    "        current_frequency = math.exp(log_lower_frequency + log_interval_spacing * i)\n",
    "        print(\"Frequency: \" + str(current_frequency))\n",
    "        printImpedance(scriptHandle.getImpedance(current_frequency))\n",
    "        \n",
    "    return"
   ]
  },
  {
   "cell_type": "markdown",
   "metadata": {},
   "source": [
    "# Connect to the Term software\n",
    "\n",
    "Before calling the following commands, the Term software must be started and the Thales start screen must be displayed, in which methods can be selected.\n",
    "\n",
    "In this case the Term runs on the same computer as Python, so **\"localhost\"** is chosen here as IP address, but you could also specify the IP address of the computer in the network, on which the Term software is running and to which the workstation is connected via USB."
   ]
  },
  {
   "cell_type": "code",
   "execution_count": 75,
   "metadata": {},
   "outputs": [
    {
     "name": "stdout",
     "output_type": "stream",
     "text": [
      "connection successfull\n"
     ]
    }
   ],
   "source": [
    "TARGET_HOST = \"localhost\"\n",
    "\n",
    "if __name__ == \"__main__\":\n",
    "    zenniumConnection = ThalesRemoteConnection()\n",
    "    connectionSuccessful = zenniumConnection.connectToTerm(TARGET_HOST, \"ScriptRemote\")\n",
    "    if connectionSuccessful:\n",
    "        print(\"connection successfull\")\n",
    "    else:\n",
    "        print(\"connection not possible\")\n",
    "        sys.exit()"
   ]
  },
  {
   "cell_type": "markdown",
   "metadata": {},
   "source": [
    "# Initialize the application and start the remote software in Thales\n",
    "\n",
    "If the connection to the term is successfully established, the [ThalesRemoteConnection]([**ThalesRemoteScriptWrapper**](http://zahner.de/documentation/thales_remote/script_wrapper.html#thales_remote.script_wrapper.ThalesRemoteScriptWrapper)) object that manages the connection to the Thales software. This object is passed to the constructor of a new [ThalesRemoteScriptWrapper](http://zahner.de/documentation/thales_remote/script_wrapper.html#thales_remote.script_wrapper.ThalesRemoteScriptWrapper) object.\n",
    "\n",
    "The [ThalesRemoteScriptWrapper](http://zahner.de/documentation/thales_remote/script_wrapper.html#thales_remote.script_wrapper.ThalesRemoteScriptWrapper) class implements the commands as methods, which are available via [Remote2](http://zahner.de/pdf/Remote2.pdf)."
   ]
  },
  {
   "cell_type": "code",
   "execution_count": null,
   "metadata": {},
   "outputs": [],
   "source": [
    "    zahnerZennium = ThalesRemoteScriptWrapper(zenniumConnection)\n",
    "    zahnerZennium.forceThalesIntoRemoteScript()"
   ]
  },
  {
   "cell_type": "markdown",
   "metadata": {},
   "source": [
    "# DC measurement\n",
    "\n",
    "## Initialization of the potentiostat\n",
    "\n",
    "First, a voltage of 1.0 V is output potentiostatically as an example. For this, potentiostatic is set first. Then the potential is set and the potentiostat is switched on."
   ]
  },
  {
   "cell_type": "code",
   "execution_count": null,
   "metadata": {},
   "outputs": [],
   "source": [
    "    zahnerZennium.setPotentiostatMode(PotentiostatMode.POTMODE_POTENTIOSTATIC)\n",
    "    zahnerZennium.setPotential(1.0)\n",
    "    zahnerZennium.enablePotentiostat()"
   ]
  },
  {
   "cell_type": "markdown",
   "metadata": {},
   "source": [
    "## Execute the measurement\n",
    "\n",
    "After the potentiostat is switched on, voltage and current are measured several times in a loop."
   ]
  },
  {
   "cell_type": "code",
   "execution_count": 78,
   "metadata": {},
   "outputs": [
    {
     "name": "stdout",
     "output_type": "stream",
     "text": [
      "Potential: 0.999819\n",
      "Current: 0.000999695\n",
      "Potential: 0.999821\n",
      "Current: 0.0009996858\n",
      "Potential: 0.9998204\n",
      "Current: 0.0009996853\n",
      "Potential: 0.9998235\n",
      "Current: 0.0009996788\n",
      "Potential: 0.9998211\n",
      "Current: 0.0009996682\n"
     ]
    }
   ],
   "source": [
    "    for i in range(5):\n",
    "        print(\"Potential: \" + str(zahnerZennium.getPotential()))\n",
    "        print(\"Current: \" + str(zahnerZennium.getCurrent()))"
   ]
  },
  {
   "cell_type": "markdown",
   "metadata": {},
   "source": [
    "# Impedance measurement\n",
    "\n",
    "## Parameterization of the impedance measurement\n",
    "\n",
    "For the impedance measurement, the measuring frequency, the measuring amplitude and the number of periods to be averaged are now set."
   ]
  },
  {
   "cell_type": "code",
   "execution_count": null,
   "metadata": {},
   "outputs": [],
   "source": [
    "    zahnerZennium.setFrequency(2000)\n",
    "    zahnerZennium.setAmplitude(10e-3)\n",
    "    zahnerZennium.setNumberOfPeriods(3)"
   ]
  },
  {
   "cell_type": "markdown",
   "metadata": {},
   "source": [
    "## Execute the measurement\n",
    "\n",
    "Since the potentiostat is still switched on from the DC measurement, the impedance spectrum is now measured at the set DC potential of 1 V.\n",
    "\n",
    "<div class=\"alert alert-block alert-info\">\n",
    "<b>Note:</b> If the potentiostat is set to potentiostatic before the impedance measurement and is switched off, the measurement is performed at the open circuit voltage/potential.\n",
    "</div>\n",
    "    "
   ]
  },
  {
   "cell_type": "code",
   "execution_count": 80,
   "metadata": {},
   "outputs": [
    {
     "name": "stdout",
     "output_type": "stream",
     "text": [
      "Impedance: 998.9000535233743 ohm, 0.00032736008441190895 rad\n",
      "Impedance: 999.4001470244089 ohm, 0.0005424254020747291 rad\n",
      "Impedance: 999.8000279007997 ohm, 0.00023624724505468624 rad\n",
      "Frequency: 999.9999999999998\n",
      "Impedance: 999.4003471527313 ohm, 0.0008334999070430484 rad\n",
      "Frequency: 1801.64823065441\n",
      "Impedance: 1000.0000260832796 ohm, -0.00022839999602838602 rad\n",
      "Frequency: 3245.936347020167\n",
      "Impedance: 999.9000349043098 ohm, -0.0002642264164932222 rad\n",
      "Frequency: 5848.035476425735\n",
      "Impedance: 1000.0000059405 ohm, 0.00010899999956832366 rad\n",
      "Frequency: 10536.102768906649\n",
      "Impedance: 998.5000447377106 ohm, 0.00029934901459376426 rad\n",
      "Frequency: 18982.350911593698\n",
      "Impedance: 999.6000291244944 ohm, 0.00024139655393453876 rad\n",
      "Frequency: 34199.51893353398\n",
      "Impedance: 1000.0004020353641 ohm, -0.000896699759663327 rad\n",
      "Frequency: 61615.50277583351\n",
      "Impedance: 999.3004679686735 ohm, 0.000967777142073199 rad\n",
      "Frequency: 111009.46155696237\n",
      "Impedance: 999.9098222459863 ohm, -0.0044324142172560595 rad\n",
      "Frequency: 200000.00000000006\n",
      "Impedance: 999.4070956101923 ohm, -0.0037682431205536887 rad\n"
     ]
    },
    {
     "data": {
      "text/plain": [
       "'OK\\r'"
      ]
     },
     "execution_count": 80,
     "metadata": {},
     "output_type": "execute_result"
    }
   ],
   "source": [
    "    printImpedance(zahnerZennium.getImpedance())\n",
    "    printImpedance(zahnerZennium.getImpedance(2000))\n",
    "    printImpedance(zahnerZennium.getImpedance(2000, 10e-3, 3))\n",
    "\n",
    "    spectrum(zahnerZennium, 1000, 2e5, 10)\n",
    "    \n",
    "    zahnerZennium.disablePotentiostat()"
   ]
  },
  {
   "cell_type": "markdown",
   "metadata": {},
   "source": [
    "# Close the connection"
   ]
  },
  {
   "cell_type": "code",
   "execution_count": 81,
   "metadata": {},
   "outputs": [
    {
     "name": "stdout",
     "output_type": "stream",
     "text": [
      "finish\n"
     ]
    }
   ],
   "source": [
    "    zenniumConnection.disconnectFromTerm()\n",
    "    print(\"finish\")"
   ]
  },
  {
   "cell_type": "markdown",
   "metadata": {},
   "source": [
    "# Deployment of the source code\n",
    "\n",
    "**The following instruction is not needed by the user.**\n",
    "\n",
    "It automatically extracts the pure python code from the jupyter notebook to provide it to the user. Thus the user does not need jupyter itself and does not have to copy the code manually.\n",
    "\n",
    "The source code is saved in a .py file with the same name as the notebook."
   ]
  },
  {
   "cell_type": "code",
   "execution_count": 82,
   "metadata": {},
   "outputs": [],
   "source": [
    "    if executionInNotebook() == True:\n",
    "        notebookCodeToPython(\"BasicIntroduction.ipynb\")"
   ]
  }
 ],
 "metadata": {
  "interpreter": {
   "hash": "ac59ebe37160ed0dfa835113d9b8498d9f09ceb179beaac4002f036b9467c963"
  },
  "kernelspec": {
   "display_name": "Python 3.9.7 64-bit",
   "name": "python3"
  },
  "language_info": {
   "codemirror_mode": {
    "name": "ipython",
    "version": 3
   },
   "file_extension": ".py",
   "mimetype": "text/x-python",
   "name": "python",
   "nbconvert_exporter": "python",
   "pygments_lexer": "ipython3",
   "version": "3.9.7"
  },
  "orig_nbformat": 4
 },
 "nbformat": 4,
 "nbformat_minor": 2
}
