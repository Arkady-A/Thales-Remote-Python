{
 "cells": [
  {
   "cell_type": "markdown",
   "metadata": {},
   "source": [
    "# Electrochemical Impedance Spectroscopy\n",
    "\n",
    "This example shows how the Thales EIS software package can be controlled with Python.\n",
    "\n",
    "The [EIS manual](http://zahner.de/files/eis_2.pdf) provides further explanation of this method and explains the settings."
   ]
  },
  {
   "cell_type": "code",
   "execution_count": 1,
   "metadata": {},
   "outputs": [],
   "source": [
    "import sys\n",
    "from thales_remote.connection import ThalesRemoteConnection\n",
    "from thales_remote.script_wrapper import PotentiostatMode,ThalesRemoteScriptWrapper\n",
    "\n",
    "from jupyter_utils import executionInNotebook, notebookCodeToPython"
   ]
  },
  {
   "cell_type": "markdown",
   "metadata": {},
   "source": [
    "# Establish and initialize \n",
    "\n",
    "The Term software must be started before the script is executed to be able to connect."
   ]
  },
  {
   "cell_type": "code",
   "execution_count": 2,
   "metadata": {},
   "outputs": [
    {
     "name": "stdout",
     "output_type": "stream",
     "text": [
      "connection successfull\n"
     ]
    }
   ],
   "source": [
    "if __name__ == \"__main__\":\n",
    "    zenniumConnection = ThalesRemoteConnection()\n",
    "    connectionSuccessful = zenniumConnection.connectToTerm(\"localhost\", \"ScriptRemote\")\n",
    "    if connectionSuccessful:\n",
    "        print(\"connection successfull\")\n",
    "    else:\n",
    "        print(\"connection not possible\")\n",
    "        sys.exit()\n",
    "        \n",
    "    zahnerZennium = ThalesRemoteScriptWrapper(zenniumConnection)\n",
    "    zahnerZennium.forceThalesIntoRemoteScript()"
   ]
  },
  {
   "cell_type": "markdown",
   "metadata": {},
   "source": [
    "# Output file setup\n",
    "\n",
    "The first step is to set where the measurement data is to be saved. The path must exist otherwise you will get an error.\n",
    "\n",
    "The measurement results are to be numbered consecutively starting at 13, with the basic filename \"spectra\"."
   ]
  },
  {
   "cell_type": "code",
   "execution_count": null,
   "metadata": {},
   "outputs": [],
   "source": [
    "    zahnerZennium.setEISOutputPath(r\"C:\\THALES\\temp\\test1\")\n",
    "    zahnerZennium.setEISNaming(\"counter\")\n",
    "    zahnerZennium.setEISCounter(13)\n",
    "    zahnerZennium.setEISOutputFileName(\"spectra\")"
   ]
  },
  {
   "cell_type": "markdown",
   "metadata": {},
   "source": [
    "# EIS measurement parameters\n",
    "\n",
    "In the next step, the actual parameters for the measurement method are set.  \n",
    "Alternatively, a rule file could be loaded which sets the parameters for the measurement."
   ]
  },
  {
   "cell_type": "code",
   "execution_count": null,
   "metadata": {},
   "outputs": [],
   "source": [
    "    zahnerZennium.setPotentiostatMode(PotentiostatMode.POTMODE_POTENTIOSTATIC)\n",
    "    zahnerZennium.setAmplitude(10e-3)\n",
    "    zahnerZennium.setPotential(1)\n",
    "    zahnerZennium.setLowerFrequencyLimit(10)\n",
    "    zahnerZennium.setStartFrequency(1000)\n",
    "    zahnerZennium.setUpperFrequencyLimit(10000)\n",
    "    zahnerZennium.setLowerNumberOfPeriods(5)\n",
    "    zahnerZennium.setLowerStepsPerDecade(2)\n",
    "    zahnerZennium.setUpperNumberOfPeriods(20)\n",
    "    zahnerZennium.setUpperStepsPerDecade(5)\n",
    "    zahnerZennium.setScanDirection(\"startToMax\")\n",
    "    zahnerZennium.setScanStrategy(\"single\")"
   ]
  },
  {
   "cell_type": "markdown",
   "metadata": {},
   "source": [
    "# Execute the measurement\n",
    "\n",
    "The impedance spectrum is now measured at the DC potential of 1.0 V.\n",
    "\n",
    "<div class=\"alert alert-block alert-info\">\n",
    "<b>Note:</b> If the potentiostat is set to potentiostatic before the impedance measurement and is switched off, the measurement is performed at the open circuit voltage/potential.\n",
    "</div>"
   ]
  },
  {
   "cell_type": "code",
   "execution_count": null,
   "metadata": {},
   "outputs": [],
   "source": [
    "    zahnerZennium.enablePotentiostat()\n",
    "    \n",
    "    zahnerZennium.measureEIS()\n",
    "        \n",
    "    zahnerZennium.disablePotentiostat()"
   ]
  },
  {
   "cell_type": "markdown",
   "metadata": {},
   "source": [
    "# Changing the potentiostat\n",
    "\n",
    "By default the main potentiostat with the number 0 is selected. 1 corresponds to the external potentiostat connected to EPC channel 1.\n",
    "\n",
    "Zahner offers various [External Potentiostats](http://zahner.de/products/external-potentiostats.html) or [Electronic Loads](http://zahner.de/products/electronic-loads.html) with higher power, voltage and current which can be controlled like the internal potentiostat."
   ]
  },
  {
   "cell_type": "code",
   "execution_count": null,
   "metadata": {},
   "outputs": [],
   "source": [
    "    zahnerZennium.selectPotentiostat(1)"
   ]
  },
  {
   "cell_type": "markdown",
   "metadata": {},
   "source": [
    "# Configuration of the next output data\n",
    "\n",
    "For the following measurements, the file name is extended by the date and time."
   ]
  },
  {
   "cell_type": "code",
   "execution_count": null,
   "metadata": {},
   "outputs": [],
   "source": [
    "    zahnerZennium.setEISNaming(\"dateTime\")\n",
    "    zahnerZennium.setEISOutputPath(r\"C:\\THALES\\temp\\test2\")\n",
    "    zahnerZennium.setEISOutputFileName(\"spectra\")"
   ]
  },
  {
   "cell_type": "markdown",
   "metadata": {},
   "source": [
    "# EIS measurement parameters\n",
    "\n",
    "The measurement parameters are reset and the measurement is started.\n",
    "\n",
    "As the potentiostat was off before the measurement, the measurement is now performed at the open circuit potential/voltage."
   ]
  },
  {
   "cell_type": "code",
   "execution_count": null,
   "metadata": {},
   "outputs": [],
   "source": [
    "    zahnerZennium.setAmplitude(50e-3)\n",
    "    zahnerZennium.setScanDirection(\"startToMin\")\n",
    "    \n",
    "    zahnerZennium.measureEIS()"
   ]
  },
  {
   "cell_type": "markdown",
   "metadata": {},
   "source": [
    "# Series measurement with different amplitudes\n",
    "\n",
    "For the following measurement, the measurement is performed with the different amplitudes defined in the array **AmplitudesIn_mV_forMeasurement**.  \n",
    "The amplitude is also inserted in the file name."
   ]
  },
  {
   "cell_type": "code",
   "execution_count": 9,
   "metadata": {},
   "outputs": [],
   "source": [
    "    zahnerZennium.setEISNaming(\"individual\")\n",
    "    zahnerZennium.setEISOutputPath(r\"C:\\THALES\\temp\\test3\")\n",
    "    \n",
    "    AmplitudesIn_mV_forMeasurement = [5, 10, 20, 50]\n",
    "    \n",
    "    for amplitude in AmplitudesIn_mV_forMeasurement:\n",
    "        zahnerZennium.setEISOutputFileName(\"spectraAmplitude{}mV\".format(amplitude))\n",
    "        zahnerZennium.setAmplitude(amplitude / 1000)\n",
    "        zahnerZennium.measureEIS()"
   ]
  },
  {
   "cell_type": "markdown",
   "metadata": {},
   "source": [
    "# Disconnect\n",
    "\n",
    "After the measurements are completed, the device switches back to the main potentiostat and the connection to the term is disconnected."
   ]
  },
  {
   "cell_type": "code",
   "execution_count": 10,
   "metadata": {},
   "outputs": [
    {
     "name": "stdout",
     "output_type": "stream",
     "text": [
      "finish\n"
     ]
    }
   ],
   "source": [
    "    zahnerZennium.selectPotentiostat(0)\n",
    "    \n",
    "    zenniumConnection.disconnectFromTerm()\n",
    "    print(\"finish\")"
   ]
  },
  {
   "cell_type": "markdown",
   "metadata": {},
   "source": [
    "# Deployment of the source code\n",
    "\n",
    "**The following instruction is not needed by the user.**\n",
    "\n",
    "It automatically extracts the pure python code from the jupyter notebook to provide it to the user. Thus the user does not need jupyter itself and does not have to copy the code manually.\n",
    "\n",
    "The source code is saved in a .py file with the same name as the notebook."
   ]
  },
  {
   "cell_type": "code",
   "execution_count": 12,
   "metadata": {},
   "outputs": [],
   "source": [
    "    if executionInNotebook() == True:\n",
    "        notebookCodeToPython(\"EIS.ipynb\")"
   ]
  }
 ],
 "metadata": {
  "interpreter": {
   "hash": "ac59ebe37160ed0dfa835113d9b8498d9f09ceb179beaac4002f036b9467c963"
  },
  "kernelspec": {
   "display_name": "Python 3.9.7 64-bit",
   "name": "python3"
  },
  "language_info": {
   "codemirror_mode": {
    "name": "ipython",
    "version": 3
   },
   "file_extension": ".py",
   "mimetype": "text/x-python",
   "name": "python",
   "nbconvert_exporter": "python",
   "pygments_lexer": "ipython3",
   "version": "3.9.7"
  },
  "orig_nbformat": 4
 },
 "nbformat": 4,
 "nbformat_minor": 2
}
