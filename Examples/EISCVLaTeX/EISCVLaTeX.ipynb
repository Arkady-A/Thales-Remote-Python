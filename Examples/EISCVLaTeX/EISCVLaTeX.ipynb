{
 "cells": [
  {
   "cell_type": "markdown",
   "metadata": {},
   "source": [
    "# Measurement of EIS and CV with processing of the data\n",
    "\n",
    "This example shows how to use Python to remotely measure CV and EIS on a capacitor.\n",
    "The two measurement data sets are read in and are further processed using Python. At the end, a PDF with the results is created."
   ]
  },
  {
   "cell_type": "code",
   "execution_count": 1,
   "metadata": {},
   "outputs": [],
   "source": [
    "import sys\n",
    "import os\n",
    "\n",
    "from thales_remote.connection import ThalesRemoteConnection\n",
    "from thales_remote.script_wrapper import ThalesRemoteScriptWrapper,PotentiostatMode\n",
    "from thales_remote.file_interface import ThalesFileInterface\n",
    "\n",
    "from thales_file_import.isc_import import IscImport\n",
    "from thales_file_import.ism_import import IsmImport\n",
    "\n",
    "import matplotlib.pyplot as plt\n",
    "import matplotlib as mpl\n",
    "import numpy as np\n",
    "from matplotlib.ticker import EngFormatter\n",
    "import jinja2"
   ]
  },
  {
   "cell_type": "markdown",
   "metadata": {},
   "source": [
    "# Connect Python to the already launched Thales-Software\n",
    "\n",
    "The variable **remoteIP** contains the IP address of the computer on which the Thales software is running and to which the ZENNIUM is connected via USB.  \n",
    "In this case both are running on the same computer, so the address is *\"localhost\"*. This variable is passed to the two constructors to establish a connection via the interface classes.\n",
    "\n",
    "All commands in use are documented on the following web page in detail:   \n",
    "https://doc.zahner.de/thales_remote\n",
    "\n",
    "\n",
    "Then a second connection is established with the [ThalesFileInterface](https://doc.zahner.de/thales_remote/file_interface.html) class. This connection is used to transfer the measurement data via TCP/IP, this is especially necessary if Thales is not running on the same computer as Python.\n",
    "\n",
    "The last step is performing a DC-offset calibration. This should be done after half an hour of warm-up."
   ]
  },
  {
   "cell_type": "code",
   "execution_count": 2,
   "metadata": {},
   "outputs": [
    {
     "name": "stdout",
     "output_type": "stream",
     "text": [
      "connection successfull\n"
     ]
    }
   ],
   "source": [
    "if __name__ == \"__main__\":\n",
    "    remoteIP = \"localhost\"\n",
    "\n",
    "    zenniumConnection = ThalesRemoteConnection()\n",
    "    connectionSuccessful = zenniumConnection.connectToTerm(remoteIP, \"ScriptRemote\")\n",
    "    if connectionSuccessful:\n",
    "        print(\"connection successfull\")\n",
    "    else:\n",
    "        print(\"connection not possible\")\n",
    "        sys.exit()\n",
    "    \n",
    "    zahnerZennium = ThalesRemoteScriptWrapper(zenniumConnection)\n",
    "    zahnerZennium.forceThalesIntoRemoteScript()\n",
    "\n",
    "    measDataInterface = ThalesFileInterface(remoteIP)\n",
    "    measDataInterface.disableSaveReceivedFilesToDisk()\n",
    "    measDataInterface.enableKeepReceivedFilesInObject()\n",
    "    measDataInterface.enableAutomaticFileExchange(fileExtensions=\"*.ism*.isc\")\n",
    "    \n",
    "    zahnerZennium.calibrateOffsets()\n",
    "    "
   ]
  },
  {
   "cell_type": "markdown",
   "metadata": {},
   "source": [
    "# Perform an CV measurement\n",
    "\n",
    "In this example an electrolytic capacitor is analyzed, therefore the CV is measured between 0 V and 1 V. A slew rate of 0.25 $\\frac{V}{s}$ is used.\n",
    "\n",
    "This CV measurement is parameterized with the [setter methods](https://en.wikipedia.org/wiki/Mutator_method) in the following lines.  \n",
    "The specified path is the path on the computer on which Thales is running.\n",
    "\n",
    "After parameterization the parameters are checked and the CV measurement is started."
   ]
  },
  {
   "cell_type": "code",
   "execution_count": 3,
   "metadata": {},
   "outputs": [
    {
     "data": {
      "text/plain": [
       "'CV DONE\\r'"
      ]
     },
     "execution_count": 3,
     "metadata": {},
     "output_type": "execute_result"
    }
   ],
   "source": [
    "    zahnerZennium.setCVStartPotential(0)\n",
    "    zahnerZennium.setCVUpperReversingPotential(1)\n",
    "    zahnerZennium.setCVLowerReversingPotential(0)\n",
    "    zahnerZennium.setCVEndPotential(0)\n",
    "    \n",
    "    zahnerZennium.setCVStartHoldTime(2)\n",
    "    zahnerZennium.setCVEndHoldTime(2)\n",
    "    \n",
    "    zahnerZennium.setCVCycles(1.5)\n",
    "    zahnerZennium.setCVSamplesPerCycle(400)\n",
    "    \n",
    "    zahnerZennium.setCVMaximumCurrent(1e-3)\n",
    "    zahnerZennium.setCVMinimumCurrent(-1e-3)\n",
    "    \n",
    "    zahnerZennium.setCVOhmicDrop(0)\n",
    "    \n",
    "    zahnerZennium.disableCVAutoRestartAtCurrentOverflow()\n",
    "    zahnerZennium.disableCVAutoRestartAtCurrentUnderflow()\n",
    "    zahnerZennium.disableCVAnalogFunctionGenerator()\n",
    "    \n",
    "    zahnerZennium.setCVNaming(\"individual\")\n",
    "    zahnerZennium.setCVOutputPath(r\"C:\\THALES\\temp\\cv\")\n",
    "    zahnerZennium.setCVOutputFileName(\"cv_measurement\")\n",
    "    \n",
    "    scanRate = 0.25\n",
    "    \n",
    "    zahnerZennium.setCVScanRate(scanRate)\n",
    "    \n",
    "    zahnerZennium.checkCVSetup()\n",
    "    zahnerZennium.measureCV()"
   ]
  },
  {
   "cell_type": "markdown",
   "metadata": {},
   "source": [
    "# Processing of the CV Measurement Data\n",
    "\n",
    "First, the received measurement file is read in from the **ThalesFileInterface** object. \n",
    " \n",
    "Then the capacitance of the capacitor is determined using the following formula:  \n",
    "$Capacity = \\dfrac{I}{\\frac{dV}{dt}}$\n",
    "\n",
    "The measurement data are then plotted with [Matplotlib](https://matplotlib.org/) and the [plot is saved](https://matplotlib.org/stable/api/_as_gen/matplotlib.pyplot.savefig.html) as a PDF vector graphic."
   ]
  },
  {
   "cell_type": "code",
   "execution_count": 4,
   "metadata": {},
   "outputs": [
    {
     "name": "stdout",
     "output_type": "stream",
     "text": [
      "2.388 mF Capacitor\n"
     ]
    },
    {
     "data": {
      "image/png": "[encoded data removed]",
      "text/plain": [
       "<Figure size 720x720 with 1 Axes>"
      ]
     },
     "metadata": {
      "needs_background": "light"
     },
     "output_type": "display_data"
    }
   ],
   "source": [
    "    CVmeasurementData = IscImport(measDataInterface.getLatestReceivedFile()[\"binary_data\"])\n",
    "    maximumCurrent = max(CVmeasurementData.getCurrentArray())\n",
    "    minimumCurrent = min(CVmeasurementData.getCurrentArray())\n",
    "    \n",
    "    capacitance = ((maximumCurrent-minimumCurrent)/2)/scanRate\n",
    "    \n",
    "    capacitanceFormatter = EngFormatter(places=3, unit=\"F\")\n",
    "    print(f\"{capacitanceFormatter.format_data(capacitance)} Capacitor\")\n",
    "    \n",
    "    figCV, (axis) = plt.subplots(1, 1)\n",
    "    figCV.suptitle(f\"Cyclic Voltammetry {capacitanceFormatter.format_data(capacitance)} Capacitor\")\n",
    "    \n",
    "    axis.plot(CVmeasurementData.getVoltageArray(), CVmeasurementData.getCurrentArray(), color = \"red\")\n",
    "    \n",
    "    axis.grid(which=\"both\")\n",
    "    axis.xaxis.set_major_formatter(EngFormatter(unit=\"V\"))\n",
    "    axis.yaxis.set_major_formatter(EngFormatter(unit=\"A\"))\n",
    "    axis.set_xlabel(r\"Voltage\")\n",
    "    axis.set_ylabel(r\"Current\")\n",
    "    \n",
    "    figCV.set_size_inches(10, 10)\n",
    "    plt.show()\n",
    "    figCV.savefig(\"CV.pdf\")"
   ]
  },
  {
   "cell_type": "markdown",
   "metadata": {},
   "source": [
    "# Perform an EIS measurement\n",
    "\n",
    "The parameters for the impedance measurement are set with the appropriate setter methods, so that the measurement is performed at 0 V with 10 mV amplitude."
   ]
  },
  {
   "cell_type": "code",
   "execution_count": 5,
   "metadata": {},
   "outputs": [
    {
     "data": {
      "text/plain": [
       "'OK\\r'"
      ]
     },
     "execution_count": 5,
     "metadata": {},
     "output_type": "execute_result"
    }
   ],
   "source": [
    "    zahnerZennium.setEISNaming(\"individual\")\n",
    "    zahnerZennium.setEISOutputPath(r\"C:\\THALES\\temp\")\n",
    "    zahnerZennium.setEISOutputFileName(\"eis_measurement\")\n",
    "    \n",
    "    zahnerZennium.setPotentiostatMode(PotentiostatMode.POTMODE_POTENTIOSTATIC)\n",
    "    zahnerZennium.setAmplitude(10e-3)\n",
    "    zahnerZennium.setPotential(0)\n",
    "    zahnerZennium.setLowerFrequencyLimit(10)\n",
    "    zahnerZennium.setStartFrequency(10)\n",
    "    zahnerZennium.setUpperFrequencyLimit(500000)\n",
    "    zahnerZennium.setLowerNumberOfPeriods(3)\n",
    "    zahnerZennium.setLowerStepsPerDecade(5)\n",
    "    zahnerZennium.setUpperNumberOfPeriods(20)\n",
    "    zahnerZennium.setUpperStepsPerDecade(5)\n",
    "    zahnerZennium.setScanDirection(\"startToMin\")\n",
    "    zahnerZennium.setScanStrategy(\"single\")\n",
    "    \n",
    "    zahnerZennium.enablePotentiostat()\n",
    "    zahnerZennium.measureEIS()\n",
    "    zahnerZennium.disablePotentiostat()\n",
    "    \n",
    "    zahnerZennium.setAmplitude(0)"
   ]
  },
  {
   "cell_type": "markdown",
   "metadata": {},
   "source": [
    "# Processing of the EIS Measurement Data\n",
    "\n",
    "After the measurement, the measurement data are displayed with Matplotlib in a Bode diagram.\n",
    "\n",
    "The measurement data for CV (isc-files) and EIS (ism-files) are read in with the [IscImport](https://doc.zahner.de/thales_remote/thales_file_import.html#cyclic-voltammograms-isc) and [IsmImport](https://doc.zahner.de/thales_remote/thales_file_import.html#thales_file_import.ism_import.IsmImport) classes in Python.  \n",
    "The binary file content of the file, as in the example presented here, or the path of the file can be used as parameter.\n",
    "\n",
    "The two classes are documented under the following link:  \n",
    "https://doc.zahner.de/thales_remote/thales_file_import"
   ]
  },
  {
   "cell_type": "code",
   "execution_count": 6,
   "metadata": {},
   "outputs": [
    {
     "data": {
      "image/png": "[encoded data removed]",
      "text/plain": [
       "<Figure size 720x288 with 2 Axes>"
      ]
     },
     "metadata": {
      "needs_background": "light"
     },
     "output_type": "display_data"
    }
   ],
   "source": [
    "    EISmeasurementData = IsmImport(measDataInterface.getLatestReceivedFile()[\"binary_data\"])\n",
    "    \n",
    "    zenniumConnection.disconnectFromTerm()\n",
    "    measDataInterface.close()\n",
    "    \n",
    "    impedanceFrequencies = EISmeasurementData.getFrequencyArray()\n",
    "    impedanceAbsolute = EISmeasurementData.getImpedanceArray()\n",
    "    impedancePhase = EISmeasurementData.getPhaseArray()\n",
    "    figBode, (impedanceAxis) = plt.subplots(1, 1)\n",
    "    figBode.suptitle(f\"EIS {capacitanceFormatter.format_data(capacitance)} Capacitor\")\n",
    "    \n",
    "    phaseAxis = impedanceAxis.twinx()\n",
    "    \n",
    "    impedanceAxis.loglog(impedanceFrequencies, impedanceAbsolute, marker=\"o\", markersize=3, color = \"blue\")\n",
    "    impedanceAxis.xaxis.set_major_formatter(EngFormatter(unit=\"Hz\"))\n",
    "    impedanceAxis.yaxis.set_major_formatter(EngFormatter(unit=\"$\\Omega$\"))\n",
    "    impedanceAxis.set_xlabel(r\"f\")\n",
    "    impedanceAxis.set_ylabel(r\"|Z|\")\n",
    "    impedanceAxis.yaxis.label.set_color(\"blue\")\n",
    "    impedanceAxis.grid(which=\"both\")\n",
    "    impedanceAxis.set_xlim([min(impedanceFrequencies), max(impedanceFrequencies)])\n",
    "    \n",
    "    phaseAxis.semilogx(impedanceFrequencies, np.abs(impedancePhase * (360 / (2 * np.pi))), marker=\"o\", markersize=3, color = \"red\")\n",
    "    phaseAxis.yaxis.set_major_formatter(EngFormatter(unit=\"$°$\", sep=\"\"))\n",
    "    phaseAxis.xaxis.set_major_formatter(EngFormatter(unit=\"Hz\"))\n",
    "    phaseAxis.set_xlabel(r\"f\")\n",
    "    phaseAxis.set_ylabel(r\"|Phase|\")\n",
    "    phaseAxis.yaxis.label.set_color(\"red\")\n",
    "    phaseAxis.set_ylim([0, 90])\n",
    "    figBode.set_size_inches(10, 4)\n",
    "    plt.show()\n",
    "    figBode.savefig(\"EIS.pdf\")"
   ]
  },
  {
   "cell_type": "markdown",
   "metadata": {},
   "source": [
    "To allow for drawing a table with the impedance measuring points in the PDF, the measurement data are exported as csv.\n",
    "\n",
    "Here, small adaptions are necessary for LaTeX in terms of correct display of the micro sign ($\\mu$) and the minus sign.  \n",
    "Everything is written with [utf-8 encoding](https://en.wikipedia.org/wiki/UTF-8) in the files, that all characters can be displayed without problems."
   ]
  },
  {
   "cell_type": "code",
   "execution_count": 7,
   "metadata": {},
   "outputs": [],
   "source": [
    "    mpl.rcParams[\"axes.unicode_minus\"] = False\n",
    "    prefixFormatter = EngFormatter(places=3, sep = \"\")\n",
    "    defaultMu = prefixFormatter.ENG_PREFIXES[-6]\n",
    "    prefixFormatter.ENG_PREFIXES[-6] = \"\\\\textmu\" #LaTeX notation for micro\n",
    "    \n",
    "    with open(\"EIS.csv\",\"wb\") as file:\n",
    "        file.write(bytearray(\"Frequency;Impedance;Phase\" + os.linesep, \"utf-8\"))\n",
    "    \n",
    "        for freq, imp, phase in zip(impedanceFrequencies, impedanceAbsolute, impedancePhase):\n",
    "            file.write(bytearray(f\"{prefixFormatter.format_data(freq)};{prefixFormatter.format_data(imp)};{prefixFormatter.format_data(phase * (360 / (2 * np.pi)))}\" + os.linesep, \"utf-8\"))\n",
    "    "
   ]
  },
  {
   "cell_type": "markdown",
   "metadata": {},
   "source": [
    "# Generate Report\n",
    "\n",
    "First, the Python command line input function **input()** is used to request a name for the test object from the user."
   ]
  },
  {
   "cell_type": "code",
   "execution_count": 8,
   "metadata": {},
   "outputs": [],
   "source": [
    "    objectName = input(\"Input Test Object Identifier:\")"
   ]
  },
  {
   "cell_type": "markdown",
   "metadata": {},
   "source": [
    "To create a PDF, [LaTeX](https://www.latex-project.org/)/[MiKTeX](https://miktex.org/) is used. For this purpose, a tex-file is created as template which has placeholders for the [Jinja2](https://palletsprojects.com/p/jinja/) template engine. These placeholders are filled in with Python.\n",
    "\n",
    "The placeholder for capacity is, for example: <code>\\VAR{capacitance}</code>.\n",
    "\n",
    "In the following, the Jinja2 enviroment is [initialized](http://eosrei.net/articles/2015/11/latex-templates-python-and-jinja2-generate-pdfs) and the template file is loaded."
   ]
  },
  {
   "cell_type": "code",
   "execution_count": 9,
   "metadata": {},
   "outputs": [],
   "source": [
    "    latex_jinja_env = jinja2.Environment(\n",
    "        variable_start_string = '\\PYVAR{',\n",
    "        variable_end_string = '}',\n",
    "        trim_blocks = True,\n",
    "        autoescape = False,\n",
    "        loader = jinja2.FileSystemLoader(os.path.abspath('.'))\n",
    "    )\n",
    "        \n",
    "    template = latex_jinja_env.get_template(r\"report.tex\")"
   ]
  },
  {
   "cell_type": "markdown",
   "metadata": {},
   "source": [
    "The render method now fills the placeholders. The assignments in the parameter list are used to pass the data from Python to the placeholders.\n",
    "\n",
    "The table with the impedance measurement data is displayed by LaTeX, while the data are stored in the created csv-file. Only the filename of the csv-file is passed on.\n",
    "\n",
    "The filled tex file is then written to the hard disk and [pdflatex.exe](https://docs.miktex.org/manual/miktex-pdftex.html) is called with appropriate parameters to create the PDF file.  \n",
    "With *-jobname* the name of the PDF file is passed, which will be created. The **objectName** is inserted here.\n",
    "\n",
    "At the end the generated pdf will be opened."
   ]
  },
  {
   "cell_type": "code",
   "execution_count": 10,
   "metadata": {},
   "outputs": [
    {
     "name": "stdout",
     "output_type": "stream",
     "text": [
      "finish\n"
     ]
    }
   ],
   "source": [
    "    currentFormatter = EngFormatter(unit=\"A\")\n",
    "    currentFormatter.ENG_PREFIXES[-6] = \"\\\\mu \" #LaTeX notation for micro\n",
    "    \n",
    "    fileString = template.render(\n",
    "        objectname = objectName,\n",
    "        capacitance = capacitanceFormatter.format_data(capacitance),\n",
    "        cv_filename = \"CV.pdf\",\n",
    "        eis_filename = \"EIS.pdf\",\n",
    "        eis_csv_filename = \"EIS.csv\",\n",
    "        cv_maximum_current = currentFormatter.format_data(maximumCurrent),\n",
    "        cv_minimum_current = currentFormatter.format_data(minimumCurrent),\n",
    "        cv_scanrate = scanRate\n",
    "        )\n",
    "    \n",
    "    fileString = bytearray(fileString, \"utf-8\")\n",
    "    f = open(\"report_filled.tex\", \"wb\")\n",
    "    f.write(fileString)\n",
    "    f.close()\n",
    "    \n",
    "    # Only needed for Jupyter, that the kernel does not have to be restarted all the time.\n",
    "    currentFormatter.ENG_PREFIXES[-6] = defaultMu\n",
    "    \n",
    "    command = f\"pdflatex.exe report_filled.tex -jobname=\\\"{objectName}\\\"\"\n",
    "    os.system(command)\n",
    "    os.popen(f\"{objectName}.pdf\")\n",
    "    print(\"finish\")"
   ]
  }
 ],
 "metadata": {
  "interpreter": {
   "hash": "b89b5cfaba6639976dc87ff2fec6d58faec662063367e2c229c520fe71072417"
  },
  "kernelspec": {
   "display_name": "Python 3.10.0 64-bit",
   "language": "python",
   "name": "python3"
  },
  "language_info": {
   "codemirror_mode": {
    "name": "ipython",
    "version": 3
   },
   "file_extension": ".py",
   "mimetype": "text/x-python",
   "name": "python",
   "nbconvert_exporter": "python",
   "pygments_lexer": "ipython3",
   "version": "3.10.2"
  },
  "orig_nbformat": 4
 },
 "nbformat": 4,
 "nbformat_minor": 2
}
