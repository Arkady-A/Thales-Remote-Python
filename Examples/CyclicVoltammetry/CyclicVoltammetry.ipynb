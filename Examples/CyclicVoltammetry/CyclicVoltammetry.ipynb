{
 "cells": [
  {
   "cell_type": "markdown",
   "metadata": {},
   "source": [
    "# Cyclic Voltammetry\n",
    "\n",
    "This example shows how the Thales CV software package can be controlled with Python.\n",
    "\n",
    "The [CV manual](http://zahner.de/pdf/CV.pdf) provides further explanation of this method and explains the settings."
   ]
  },
  {
   "cell_type": "code",
   "execution_count": 1,
   "metadata": {},
   "outputs": [],
   "source": [
    "import sys\n",
    "from thales_remote.connection import ThalesRemoteConnection\n",
    "from thales_remote.script_wrapper import ThalesRemoteScriptWrapper\n",
    "\n",
    "from jupyter_utils import executionInNotebook, notebookCodeToPython"
   ]
  },
  {
   "cell_type": "markdown",
   "metadata": {},
   "source": [
    "# Establish and initialize \n",
    "\n",
    "The Term software must be started before the script is executed to be able to connect."
   ]
  },
  {
   "cell_type": "code",
   "execution_count": 2,
   "metadata": {},
   "outputs": [
    {
     "name": "stdout",
     "output_type": "stream",
     "text": [
      "connection successfull\n"
     ]
    }
   ],
   "source": [
    "if __name__ == \"__main__\":\n",
    "    zenniumConnection = ThalesRemoteConnection()\n",
    "    connectionSuccessful = zenniumConnection.connectToTerm(\"localhost\", \"ScriptRemote\")\n",
    "    if connectionSuccessful:\n",
    "        print(\"connection successfull\")\n",
    "    else:\n",
    "        print(\"connection not possible\")\n",
    "        sys.exit()\n",
    "        \n",
    "    zahnerZennium = ThalesRemoteScriptWrapper(zenniumConnection)\n",
    "    zahnerZennium.forceThalesIntoRemoteScript()"
   ]
  },
  {
   "cell_type": "markdown",
   "metadata": {},
   "source": [
    "# CV output file setup\n",
    "\n",
    "The first step is to set where the measurement data is to be saved. The path must exist otherwise you will get an error."
   ]
  },
  {
   "cell_type": "code",
   "execution_count": null,
   "metadata": {},
   "outputs": [],
   "source": [
    "    zahnerZennium.setCVOutputPath(r\"C:\\THALES\\temp\\cv\")"
   ]
  },
  {
   "cell_type": "markdown",
   "metadata": {},
   "source": [
    "Then it is set that the measurements should be numbered and the numbering starts with 1.  \n",
    "The basic file name \"cv_series\" is then extended with a number."
   ]
  },
  {
   "cell_type": "code",
   "execution_count": null,
   "metadata": {},
   "outputs": [],
   "source": [
    "    zahnerZennium.setCVOutputFileName(\"cv_series\")\n",
    "    zahnerZennium.setCVNaming(\"counter\")\n",
    "    zahnerZennium.setCVCounter(1)"
   ]
  },
  {
   "cell_type": "markdown",
   "metadata": {},
   "source": [
    "# CV measurement parameters\n",
    "\n",
    "In the next step, the actual parameters for the measurement method are set.  \n",
    "Alternatively, a rule file could be loaded which sets the parameters for the measurement.\n",
    "\n",
    "The methods are named after the parameters they set. Additional information can be found in the [API documentation](http://zahner.de/documentation/thales_remote/script_wrapper.html)."
   ]
  },
  {
   "cell_type": "code",
   "execution_count": null,
   "metadata": {},
   "outputs": [],
   "source": [
    "    zahnerZennium.setCVStartPotential(1)\n",
    "    zahnerZennium.setCVUpperReversingPotential(2)\n",
    "    zahnerZennium.setCVLowerReversingPotential(0)\n",
    "    zahnerZennium.setCVEndPotential(1)\n",
    "    \n",
    "    zahnerZennium.setCVStartHoldTime(2)\n",
    "    zahnerZennium.setCVEndHoldTime(2)\n",
    "    \n",
    "    zahnerZennium.setCVCycles(1.5)\n",
    "    zahnerZennium.setCVSamplesPerCycle(400)\n",
    "    zahnerZennium.setCVScanRate(0.5)\n",
    "    \n",
    "    zahnerZennium.setCVMaximumCurrent(0.03)\n",
    "    zahnerZennium.setCVMinimumCurrent(-0.03)\n",
    "    \n",
    "    zahnerZennium.setCVOhmicDrop(0)\n",
    "    \n",
    "    zahnerZennium.disableCVAutoRestartAtCurrentOverflow()\n",
    "    zahnerZennium.disableCVAutoRestartAtCurrentUnderflow()\n",
    "    zahnerZennium.disableCVAnalogFunctionGenerator()"
   ]
  },
  {
   "cell_type": "markdown",
   "metadata": {},
   "source": [
    "# Execute the measurement\n",
    "\n",
    "After checking whether the parameters have been set correctly, the measurement is started."
   ]
  },
  {
   "cell_type": "code",
   "execution_count": 6,
   "metadata": {},
   "outputs": [
    {
     "name": "stdout",
     "output_type": "stream",
     "text": [
      "OK;CVSETUP;CV_Pstart=1.0000e+00;CV_Tstart=2;CV_Pupper=2.0000e+00;CV_Plower=0.0000e+00;CV_Pend=1.0000e+00;CV_Tend=2;CV_Srate=5.0000e-01;CV_Periods=2;CV_PpPer=400;CV_Imi=-3.0000e-02;CV_Ima=3.0000e-02;CV_Odrop=0.0000e+00;CV_Sstart=0.0000e+00;CV_Send=2.0000e+01;CV_AutoReStart=0;CV_AutoScale=0;CV_AFGena=0;ENDSETUP\n"
     ]
    },
    {
     "data": {
      "text/plain": [
       "'CV DONE\\r'"
      ]
     },
     "execution_count": 6,
     "metadata": {},
     "output_type": "execute_result"
    }
   ],
   "source": [
    "    zahnerZennium.checkCVSetup()\n",
    "    print(zahnerZennium.readCVSetup())\n",
    "    \n",
    "    zahnerZennium.measureCV()"
   ]
  },
  {
   "cell_type": "markdown",
   "metadata": {},
   "source": [
    "# Changing the potentiostat\n",
    "\n",
    "By default the main potentiostat with the number 0 is selected. 1 corresponds to the external potentiostat connected to EPC channel 1.\n",
    "\n",
    "Zahner offers various [External Potentiostats](http://zahner.de/products/external-potentiostats.html) or [Electronic Loads](http://zahner.de/products/electronic-loads.html) with higher power, voltage and current which can be controlled like the internal potentiostat."
   ]
  },
  {
   "cell_type": "code",
   "execution_count": null,
   "metadata": {},
   "outputs": [],
   "source": [
    "    zahnerZennium.selectPotentiostat(1)"
   ]
  },
  {
   "cell_type": "markdown",
   "metadata": {},
   "source": [
    "# Configuration of the next output data\n",
    "\n",
    "For each of the following CV measurements an individual filename is generated, which includes the scan rate of the measurement."
   ]
  },
  {
   "cell_type": "code",
   "execution_count": 8,
   "metadata": {},
   "outputs": [],
   "source": [
    "    zahnerZennium.setCVNaming(\"individual\")\n",
    "    zahnerZennium.setCVOutputPath(r\"C:\\THALES\\temp\\cv\")\n",
    "    \n",
    "    ScanRatesForMeasurement = [0.1, 0.2, 0.5, 1.0]"
   ]
  },
  {
   "cell_type": "markdown",
   "metadata": {},
   "source": [
    "After configuration, a CV measurement is performed for each scan rate in the **ScanRatesForMeasurement** array."
   ]
  },
  {
   "cell_type": "code",
   "execution_count": 9,
   "metadata": {},
   "outputs": [
    {
     "name": "stdout",
     "output_type": "stream",
     "text": [
      "OK;CVSETUP;CV_Pstart=1.0000e+00;CV_Tstart=2;CV_Pupper=2.0000e+00;CV_Plower=0.0000e+00;CV_Pend=1.0000e+00;CV_Tend=2;CV_Srate=1.0000e-01;CV_Periods=2;CV_PpPer=400;CV_Imi=-3.0000e-02;CV_Ima=3.0000e-02;CV_Odrop=0.0000e+00;CV_Sstart=0.0000e+00;CV_Send=8.4000e+01;CV_AutoReStart=0;CV_AutoScale=0;CV_AFGena=0;ENDSETUP\n",
      "OK;CVSETUP;CV_Pstart=1.0000e+00;CV_Tstart=2;CV_Pupper=2.0000e+00;CV_Plower=0.0000e+00;CV_Pend=1.0000e+00;CV_Tend=2;CV_Srate=2.0000e-01;CV_Periods=2;CV_PpPer=400;CV_Imi=-3.0000e-02;CV_Ima=3.0000e-02;CV_Odrop=0.0000e+00;CV_Sstart=0.0000e+00;CV_Send=4.4000e+01;CV_AutoReStart=0;CV_AutoScale=0;CV_AFGena=0;ENDSETUP\n",
      "OK;CVSETUP;CV_Pstart=1.0000e+00;CV_Tstart=2;CV_Pupper=2.0000e+00;CV_Plower=0.0000e+00;CV_Pend=1.0000e+00;CV_Tend=2;CV_Srate=5.0000e-01;CV_Periods=2;CV_PpPer=400;CV_Imi=-3.0000e-02;CV_Ima=3.0000e-02;CV_Odrop=0.0000e+00;CV_Sstart=0.0000e+00;CV_Send=2.0000e+01;CV_AutoReStart=0;CV_AutoScale=0;CV_AFGena=0;ENDSETUP\n",
      "OK;CVSETUP;CV_Pstart=1.0000e+00;CV_Tstart=2;CV_Pupper=2.0000e+00;CV_Plower=0.0000e+00;CV_Pend=1.0000e+00;CV_Tend=2;CV_Srate=1.0000e+00;CV_Periods=2;CV_PpPer=400;CV_Imi=-3.0000e-02;CV_Ima=3.0000e-02;CV_Odrop=0.0000e+00;CV_Sstart=0.0000e+00;CV_Send=1.2000e+01;CV_AutoReStart=0;CV_AutoScale=0;CV_AFGena=0;ENDSETUP\n"
     ]
    }
   ],
   "source": [
    "    for scanRate in ScanRatesForMeasurement:\n",
    "        zahnerZennium.setCVOutputFileName(\"cv_scanrate_{:d}mVs\".format(int(scanRate * 1000)))\n",
    "        zahnerZennium.setCVScanRate(scanRate)\n",
    "    \n",
    "        zahnerZennium.checkCVSetup()\n",
    "        print(zahnerZennium.readCVSetup())\n",
    "        \n",
    "        zahnerZennium.measureCV()"
   ]
  },
  {
   "cell_type": "markdown",
   "metadata": {},
   "source": [
    "# Disconnect\n",
    "\n",
    "After the measurements are completed, the device switches back to the main potentiostat and the connection to the term is disconnected."
   ]
  },
  {
   "cell_type": "code",
   "execution_count": 10,
   "metadata": {},
   "outputs": [
    {
     "name": "stdout",
     "output_type": "stream",
     "text": [
      "finish\n"
     ]
    }
   ],
   "source": [
    "    zahnerZennium.selectPotentiostat(0)\n",
    "    \n",
    "    zenniumConnection.disconnectFromTerm()\n",
    "    print(\"finish\")"
   ]
  },
  {
   "cell_type": "markdown",
   "metadata": {},
   "source": [
    "# Deployment of the source code\n",
    "\n",
    "**The following instruction is not needed by the user.**\n",
    "\n",
    "It automatically extracts the pure python code from the jupyter notebook to provide it to the user. Thus the user does not need jupyter itself and does not have to copy the code manually.\n",
    "\n",
    "The source code is saved in a .py file with the same name as the notebook."
   ]
  },
  {
   "cell_type": "code",
   "execution_count": 12,
   "metadata": {},
   "outputs": [],
   "source": [
    "    if executionInNotebook() == True:\n",
    "        notebookCodeToPython(\"CyclicVoltammetry.ipynb\")"
   ]
  }
 ],
 "metadata": {
  "interpreter": {
   "hash": "ac59ebe37160ed0dfa835113d9b8498d9f09ceb179beaac4002f036b9467c963"
  },
  "kernelspec": {
   "display_name": "Python 3.9.7 64-bit",
   "name": "python3"
  },
  "language_info": {
   "codemirror_mode": {
    "name": "ipython",
    "version": 3
   },
   "file_extension": ".py",
   "mimetype": "text/x-python",
   "name": "python",
   "nbconvert_exporter": "python",
   "pygments_lexer": "ipython3",
   "version": "3.9.7"
  },
  "orig_nbformat": 4
 },
 "nbformat": 4,
 "nbformat_minor": 2
}
